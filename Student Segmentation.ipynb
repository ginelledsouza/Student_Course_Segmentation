{
 "cells": [
  {
   "cell_type": "markdown",
   "metadata": {},
   "source": [
    "# Student Segmentation"
   ]
  },
  {
   "cell_type": "code",
   "execution_count": 1,
   "metadata": {},
   "outputs": [],
   "source": [
    "from sklearn.utils import resample\n",
    "import matplotlib.pyplot as plt\n",
    "from sklearn.svm import SVC\n",
    "from random import randint\n",
    "import seaborn as sns\n",
    "import pandas as pd\n",
    "import numpy as np"
   ]
  },
  {
   "cell_type": "code",
   "execution_count": 2,
   "metadata": {},
   "outputs": [],
   "source": [
    "data = pd.read_csv(\"C:/Users/ginel/OneDrive/Desktop/College - Project/Project and Research Documentation/Analytics/Online Learning - Research.csv\")\n",
    "\n",
    "OldCols = ['Timestamp', 'Kindly fill in your full name', 'What age category do you belong to?', 'Are you a student?',\n",
    "'Have you ever participated or currently participating in any online learning courses?', 'Do you feel online learning has been helpful considering the current pandemic?',\n",
    "'Would you like to upgrade your skillset by participating in online learning platforms?', 'How easy is it to find a course of your choice?',\n",
    "'What challenges do you face while using the online learning platforms? (Select all that applies)', 'Do you think that online learning should continue even after the pandemic?',\n",
    "'What are your interests (Select all that applies)']\n",
    "\n",
    "NewCols = ['Date', 'Name', 'Age Group', 'Student', 'Participated in online learning', 'Is online learning helpful', 'Upgrade skills through online learning',\n",
    "'Ease to pick a course', 'Challenges to pick a course', 'Online learning continue', 'Interest']\n",
    "\n",
    "for i in range(len(OldCols)):\n",
    "    data.rename(columns={OldCols[i]: NewCols[i]}, inplace=True)"
   ]
  },
  {
   "cell_type": "code",
   "execution_count": 3,
   "metadata": {},
   "outputs": [
    {
     "data": {
      "text/html": [
       "<div>\n",
       "<style scoped>\n",
       "    .dataframe tbody tr th:only-of-type {\n",
       "        vertical-align: middle;\n",
       "    }\n",
       "\n",
       "    .dataframe tbody tr th {\n",
       "        vertical-align: top;\n",
       "    }\n",
       "\n",
       "    .dataframe thead th {\n",
       "        text-align: right;\n",
       "    }\n",
       "</style>\n",
       "<table border=\"1\" class=\"dataframe\">\n",
       "  <thead>\n",
       "    <tr style=\"text-align: right;\">\n",
       "      <th></th>\n",
       "      <th>Date</th>\n",
       "      <th>Name</th>\n",
       "      <th>Age Group</th>\n",
       "      <th>Student</th>\n",
       "      <th>Participated in online learning</th>\n",
       "      <th>Is online learning helpful</th>\n",
       "      <th>Upgrade skills through online learning</th>\n",
       "      <th>Ease to pick a course</th>\n",
       "      <th>Challenges to pick a course</th>\n",
       "      <th>Online learning continue</th>\n",
       "      <th>Interest</th>\n",
       "    </tr>\n",
       "  </thead>\n",
       "  <tbody>\n",
       "    <tr>\n",
       "      <th>0</th>\n",
       "      <td>2021/05/16 8:06:13 pm GMT+5:30</td>\n",
       "      <td>Sneha vijay bhope</td>\n",
       "      <td>18 - 25</td>\n",
       "      <td>Yes</td>\n",
       "      <td>Yes</td>\n",
       "      <td>Yes</td>\n",
       "      <td>Yes</td>\n",
       "      <td>3.0</td>\n",
       "      <td>Enormous course options</td>\n",
       "      <td>Yes</td>\n",
       "      <td>Technology</td>\n",
       "    </tr>\n",
       "    <tr>\n",
       "      <th>1</th>\n",
       "      <td>2021/05/16 8:07:33 pm GMT+5:30</td>\n",
       "      <td>Denver D'souza</td>\n",
       "      <td>25 - 35</td>\n",
       "      <td>No</td>\n",
       "      <td>Yes</td>\n",
       "      <td>Yes</td>\n",
       "      <td>Yes</td>\n",
       "      <td>5.0</td>\n",
       "      <td>Don't know where to start;Enormous course opti...</td>\n",
       "      <td>Yes</td>\n",
       "      <td>Finance;Music;Analytics;Accounting</td>\n",
       "    </tr>\n",
       "    <tr>\n",
       "      <th>2</th>\n",
       "      <td>2021/05/16 8:08:05 pm GMT+5:30</td>\n",
       "      <td>Kedar Bhope</td>\n",
       "      <td>25 - 35</td>\n",
       "      <td>No</td>\n",
       "      <td>No</td>\n",
       "      <td>NaN</td>\n",
       "      <td>NaN</td>\n",
       "      <td>NaN</td>\n",
       "      <td>NaN</td>\n",
       "      <td>NaN</td>\n",
       "      <td>NaN</td>\n",
       "    </tr>\n",
       "    <tr>\n",
       "      <th>3</th>\n",
       "      <td>2021/05/16 8:08:40 pm GMT+5:30</td>\n",
       "      <td>Kedar Bhope</td>\n",
       "      <td>25 - 35</td>\n",
       "      <td>No</td>\n",
       "      <td>No</td>\n",
       "      <td>NaN</td>\n",
       "      <td>NaN</td>\n",
       "      <td>NaN</td>\n",
       "      <td>NaN</td>\n",
       "      <td>NaN</td>\n",
       "      <td>NaN</td>\n",
       "    </tr>\n",
       "    <tr>\n",
       "      <th>4</th>\n",
       "      <td>2021/05/16 8:10:08 pm GMT+5:30</td>\n",
       "      <td>Ginelle D'souza</td>\n",
       "      <td>18 - 25</td>\n",
       "      <td>Yes</td>\n",
       "      <td>Yes</td>\n",
       "      <td>Yes</td>\n",
       "      <td>Yes</td>\n",
       "      <td>3.0</td>\n",
       "      <td>Enormous course options;Cost per course</td>\n",
       "      <td>Yes</td>\n",
       "      <td>Analytics;Technology</td>\n",
       "    </tr>\n",
       "  </tbody>\n",
       "</table>\n",
       "</div>"
      ],
      "text/plain": [
       "                             Date               Name Age Group Student  \\\n",
       "0  2021/05/16 8:06:13 pm GMT+5:30  Sneha vijay bhope   18 - 25     Yes   \n",
       "1  2021/05/16 8:07:33 pm GMT+5:30     Denver D'souza   25 - 35      No   \n",
       "2  2021/05/16 8:08:05 pm GMT+5:30        Kedar Bhope   25 - 35      No   \n",
       "3  2021/05/16 8:08:40 pm GMT+5:30        Kedar Bhope   25 - 35      No   \n",
       "4  2021/05/16 8:10:08 pm GMT+5:30    Ginelle D'souza   18 - 25     Yes   \n",
       "\n",
       "  Participated in online learning Is online learning helpful  \\\n",
       "0                             Yes                        Yes   \n",
       "1                             Yes                        Yes   \n",
       "2                              No                        NaN   \n",
       "3                              No                        NaN   \n",
       "4                             Yes                        Yes   \n",
       "\n",
       "  Upgrade skills through online learning  Ease to pick a course  \\\n",
       "0                                    Yes                    3.0   \n",
       "1                                    Yes                    5.0   \n",
       "2                                    NaN                    NaN   \n",
       "3                                    NaN                    NaN   \n",
       "4                                    Yes                    3.0   \n",
       "\n",
       "                         Challenges to pick a course Online learning continue  \\\n",
       "0                            Enormous course options                      Yes   \n",
       "1  Don't know where to start;Enormous course opti...                      Yes   \n",
       "2                                                NaN                      NaN   \n",
       "3                                                NaN                      NaN   \n",
       "4            Enormous course options;Cost per course                      Yes   \n",
       "\n",
       "                             Interest  \n",
       "0                          Technology  \n",
       "1  Finance;Music;Analytics;Accounting  \n",
       "2                                 NaN  \n",
       "3                                 NaN  \n",
       "4                Analytics;Technology  "
      ]
     },
     "execution_count": 3,
     "metadata": {},
     "output_type": "execute_result"
    }
   ],
   "source": [
    "data.head()"
   ]
  },
  {
   "cell_type": "markdown",
   "metadata": {},
   "source": [
    "# Data Analysis"
   ]
  },
  {
   "cell_type": "code",
   "execution_count": 4,
   "metadata": {},
   "outputs": [
    {
     "data": {
      "image/png": "[encoded data removed]",
      "text/plain": [
       "<Figure size 360x288 with 1 Axes>"
      ]
     },
     "metadata": {},
     "output_type": "display_data"
    }
   ],
   "source": [
    "plt.figure(figsize=(5,4))\n",
    "\n",
    "label = []\n",
    "value = []\n",
    "\n",
    "for j in range(len(data['Age Group'].value_counts().index)):\n",
    "    label.append(data['Age Group'].value_counts().index[j])\n",
    "    value.append(data['Age Group'].value_counts()[j])\n",
    "        \n",
    "plt.pie(value, labels = label,autopct='%1.2f%%',colors=['brown','darksalmon','mistyrose'],shadow=True)\n",
    "plt.title(\"Age Group\")\n",
    "\n",
    "plt.tight_layout(pad=0.4)   "
   ]
  },
  {
   "cell_type": "markdown",
   "metadata": {},
   "source": [
    "The survey conducted consists of students and young professionals majorly in between the age group of 18 - 35 "
   ]
  },
  {
   "cell_type": "code",
   "execution_count": 5,
   "metadata": {},
   "outputs": [
    {
     "data": {
      "image/png": "[encoded data removed]",
      "text/plain": [
       "<Figure size 518x360 with 1 Axes>"
      ]
     },
     "metadata": {
      "needs_background": "light"
     },
     "output_type": "display_data"
    }
   ],
   "source": [
    "x,y = 'Student', 'Participated in online learning'\n",
    "\n",
    "df1 = data.groupby(x)[y].value_counts(normalize=True)\n",
    "df1 = df1.mul(100)\n",
    "df1 = df1.rename('percent').reset_index()\n",
    "\n",
    "g = sns.catplot(x=x,y='percent',hue=y,kind='bar',data=df1)"
   ]
  },
  {
   "cell_type": "markdown",
   "metadata": {},
   "source": [
    "66.7% young professionals and 98.4% of students have engaged in online learning. Where an increase in the latter is strikingly high."
   ]
  },
  {
   "cell_type": "code",
   "execution_count": 6,
   "metadata": {},
   "outputs": [
    {
     "data": {
      "image/png": "[encoded data removed]",
      "text/plain": [
       "<Figure size 360x288 with 1 Axes>"
      ]
     },
     "metadata": {},
     "output_type": "display_data"
    }
   ],
   "source": [
    "df = data.copy()\n",
    "df.fillna('',inplace=True)\n",
    "df = df[df['Upgrade skills through online learning'] != '']\n",
    "\n",
    "plt.figure(figsize=(5,4))\n",
    "\n",
    "label = []\n",
    "value = []\n",
    "\n",
    "for j in range(len(df['Upgrade skills through online learning'].value_counts().index)):\n",
    "    label.append(df['Upgrade skills through online learning'].value_counts().index[j])\n",
    "    value.append(df['Upgrade skills through online learning'].value_counts()[j])\n",
    "        \n",
    "plt.pie(value, labels = label,autopct='%1.2f%%',colors=['brown','darksalmon','mistyrose'],shadow=True)\n",
    "plt.title(\"Upgrade skills through online learning\")\n",
    "\n",
    "plt.tight_layout(pad=0.4)   "
   ]
  },
  {
   "cell_type": "markdown",
   "metadata": {},
   "source": [
    "More than three fourth - 65.12% of the youth and professional agree that online learning has been an integral part of upgrading their skills"
   ]
  },
  {
   "cell_type": "code",
   "execution_count": 7,
   "metadata": {},
   "outputs": [
    {
     "data": {
      "image/png": "[encoded data removed]",
      "text/plain": [
       "<Figure size 491.25x360 with 1 Axes>"
      ]
     },
     "metadata": {
      "needs_background": "light"
     },
     "output_type": "display_data"
    }
   ],
   "source": [
    "df = data.copy()\n",
    "df.fillna('',inplace=True)\n",
    "df = df[df['Online learning continue'] != '']\n",
    "\n",
    "x,y = 'Student', 'Online learning continue'\n",
    "\n",
    "df1 = df.groupby(x)[y].value_counts(normalize=True)\n",
    "df1 = df1.mul(100)\n",
    "df1 = df1.rename('percent').reset_index()\n",
    "\n",
    "g = sns.catplot(x=x,y='percent',hue=y,kind='bar',data=df1)"
   ]
  },
  {
   "cell_type": "markdown",
   "metadata": {},
   "source": [
    "We observe about 65.8% of students would love to carry on learning, where are the likelihood of professionals to continue is 42.3%. A major factor to this could be **TIME** involved in pursuing these courses."
   ]
  },
  {
   "cell_type": "code",
   "execution_count": 8,
   "metadata": {},
   "outputs": [
    {
     "data": {
      "text/plain": [
       "<AxesSubplot:xlabel='Ease to pick a course', ylabel='count'>"
      ]
     },
     "execution_count": 8,
     "metadata": {},
     "output_type": "execute_result"
    },
    {
     "data": {
      "image/png": "[encoded data removed]",
      "text/plain": [
       "<Figure size 432x288 with 1 Axes>"
      ]
     },
     "metadata": {
      "needs_background": "light"
     },
     "output_type": "display_data"
    }
   ],
   "source": [
    "df = data.copy()\n",
    "df.fillna('',inplace=True)\n",
    "df = df[df['Ease to pick a course'] != '']\n",
    "\n",
    "df['Ease to pick a course'] = df['Ease to pick a course'].apply(lambda x : \"Not Applicable\" if x==0 else (\"Easy\" if (x!= 0) and (x<=2) else (\"Moderate\" if x==3 else \"Difficult\")))\n",
    "\n",
    "sns.countplot(x='Ease to pick a course',hue='Student',data=df)"
   ]
  },
  {
   "cell_type": "markdown",
   "metadata": {},
   "source": [
    "Talking about the ability of students and professionals to be able to pick a course we observe that there is a steep drop of comfort among students to be able to pick up a course. They find it difficult to choose a course due to lack of “Knowledge”. Professional on the other hand find a sound place between difficulty and neutrality."
   ]
  },
  {
   "cell_type": "code",
   "execution_count": 9,
   "metadata": {},
   "outputs": [
    {
     "data": {
      "text/plain": [
       "<AxesSubplot:xlabel='User Challenges', ylabel='count'>"
      ]
     },
     "execution_count": 9,
     "metadata": {},
     "output_type": "execute_result"
    },
    {
     "data": {
      "image/png": "[encoded data removed]",
      "text/plain": [
       "<Figure size 432x288 with 1 Axes>"
      ]
     },
     "metadata": {
      "needs_background": "light"
     },
     "output_type": "display_data"
    }
   ],
   "source": [
    "df = data.copy()\n",
    "df.fillna('',inplace=True)\n",
    "\n",
    "for j in range(len(df['Challenges to pick a course'])):\n",
    "    column = df['Challenges to pick a course'][j].split(\";\")\n",
    "    for value in column:\n",
    "        df.loc[df.index == j, value.strip()] = value.strip()\n",
    "        \n",
    "dropcolumns = ['Date', 'Age Group', 'Student','Participated in online learning', 'Is online learning helpful',\n",
    "               'Upgrade skills through online learning', 'Ease to pick a course', 'Challenges to pick a course', \n",
    "               'Online learning continue', 'Interest']\n",
    "\n",
    "df.drop(dropcolumns,inplace=True,axis=1)\n",
    "\n",
    "permanent = df.columns[:1].tolist()\n",
    "temporary = df.columns[1:].tolist()\n",
    "\n",
    "final = pd.melt(df, id_vars=permanent, value_vars=temporary)\n",
    "final = final[final['value'].notna()]\n",
    "\n",
    "final.drop('variable',inplace=True,axis=1)\n",
    "final.rename(columns={\"value\": \"User Challenges\"}, inplace=True)\n",
    "final = final[final['User Challenges'] != '']\n",
    "\n",
    "plt.xticks(rotation=90)\n",
    "\n",
    "sns.countplot(x='User Challenges',data=final)"
   ]
  },
  {
   "cell_type": "markdown",
   "metadata": {},
   "source": [
    "The major challenge faced by learners is course completion inconsistencies and massive course options"
   ]
  },
  {
   "cell_type": "code",
   "execution_count": 10,
   "metadata": {},
   "outputs": [
    {
     "data": {
      "text/plain": [
       "<AxesSubplot:xlabel='User Interest', ylabel='count'>"
      ]
     },
     "execution_count": 10,
     "metadata": {},
     "output_type": "execute_result"
    },
    {
     "data": {
      "image/png": "[encoded data removed]",
      "text/plain": [
       "<Figure size 432x288 with 1 Axes>"
      ]
     },
     "metadata": {
      "needs_background": "light"
     },
     "output_type": "display_data"
    }
   ],
   "source": [
    "df = data.copy()\n",
    "df.fillna('',inplace=True)\n",
    "\n",
    "for j in range(len(df['Interest'])):\n",
    "    column = df['Interest'][j].split(\";\")\n",
    "    for value in column:\n",
    "        df.loc[df.index == j, value.strip()] = value.strip()\n",
    "        \n",
    "dropcolumns = ['Date', 'Age Group', 'Student','Participated in online learning', 'Is online learning helpful',\n",
    "               'Upgrade skills through online learning', 'Ease to pick a course', 'Challenges to pick a course', \n",
    "               'Online learning continue', 'Interest']\n",
    "\n",
    "df.drop(dropcolumns,inplace=True,axis=1)\n",
    "\n",
    "permanent = df.columns[:1].tolist()\n",
    "temporary = df.columns[1:].tolist()\n",
    "\n",
    "final = pd.melt(df, id_vars=permanent, value_vars=temporary)\n",
    "final = final[final['value'].notna()]\n",
    "\n",
    "final.drop('variable',inplace=True,axis=1)\n",
    "final.rename(columns={\"value\": \"User Interest\"}, inplace=True)\n",
    "final = final[final['User Interest'] != '']\n",
    "\n",
    "plt.xticks(rotation=90)\n",
    "\n",
    "sns.countplot(x='User Interest',data=final)"
   ]
  },
  {
   "cell_type": "markdown",
   "metadata": {},
   "source": [
    "A number of interests are collected from the individual, thus providing a base for grouping along with the above known information. Here, we see that a mahority of persons have their interest in the field of techonology."
   ]
  },
  {
   "cell_type": "markdown",
   "metadata": {},
   "source": [
    "# Data Modeling"
   ]
  },
  {
   "cell_type": "code",
   "execution_count": 11,
   "metadata": {},
   "outputs": [],
   "source": [
    "data = pd.read_csv(\"C:/Users/ginel/OneDrive/Desktop/College - Project/Project and Research Documentation/Analytics/Online Learning - Research.csv\")\n",
    "\n",
    "data['What challenges do you face while using the online learning platforms? (Select all that applies)'].fillna('',inplace=True)\n",
    "data['What are your interests (Select all that applies)'].fillna('',inplace=True)\n",
    "\n",
    "data['What challenges do you face while using the online learning platforms? (Select all that applies)'] = data['What challenges do you face while using the online learning platforms? (Select all that applies)'].apply(lambda x : x.replace(\"Don't\",\"Do not\"))\n",
    "\n",
    "cols = ['Are you a student?','Have you ever participated or currently participating in any online learning courses?',\n",
    "        'Do you feel online learning has been helpful considering the current pandemic?','Would you like to upgrade your skillset by participating in online learning platforms?',\n",
    "        'Do you think that online learning should continue even after the pandemic?']\n",
    "\n",
    "data.fillna(0,inplace=True)\n",
    "\n",
    "for i in cols:\n",
    "    data[i] = data[i].apply(lambda x : 1 if x == \"Yes\" else 0)\n",
    "\n",
    "data['How easy is it to find a course of your choice?'] = data['How easy is it to find a course of your choice?'].apply(lambda x : \"Not Applicable\" if x==0 else (\"Easy\" if (x!= 0) and (x<=2) else (\"Moderate\" if x==3 else \"Difficult\")))\n",
    "\n",
    "cols = ['What challenges do you face while using the online learning platforms? (Select all that applies)','What are your interests (Select all that applies)']\n",
    "\n",
    "for i in cols:\n",
    "    for j in range(len(data[i])):\n",
    "        column = data[i][j].split(\";\")\n",
    "        for value in column:\n",
    "            data.loc[data.index == j, value.strip().title()] = 1\n",
    "\n",
    "for j in range(len(data['What age category do you belong to?'])):\n",
    "    cols = \"Age: \" + str(data['What age category do you belong to?'][j])\n",
    "    data.loc[data.index == j, cols] = 1\n",
    "    \n",
    "for j in range(len(data['How easy is it to find a course of your choice?'])):\n",
    "    cols = \"Find: \" + str(data['How easy is it to find a course of your choice?'][j])\n",
    "    data.loc[data.index == j, cols] = 1\n",
    "    \n",
    "data.fillna(0,inplace=True)\n",
    "\n",
    "data.drop(['Timestamp','What age category do you belong to?','How easy is it to find a course of your choice?','What challenges do you face while using the online learning platforms? (Select all that applies)','What are your interests (Select all that applies)',''],axis=1,inplace=True)\n",
    "\n",
    "for col in data.columns[2:]:\n",
    "    data[col] = data[col].astype(\"int64\")\n",
    "    \n",
    "data = data.set_index('Kindly fill in your full name')"
   ]
  },
  {
   "cell_type": "code",
   "execution_count": 12,
   "metadata": {},
   "outputs": [
    {
     "data": {
      "text/html": [
       "<div>\n",
       "<style scoped>\n",
       "    .dataframe tbody tr th:only-of-type {\n",
       "        vertical-align: middle;\n",
       "    }\n",
       "\n",
       "    .dataframe tbody tr th {\n",
       "        vertical-align: top;\n",
       "    }\n",
       "\n",
       "    .dataframe thead th {\n",
       "        text-align: right;\n",
       "    }\n",
       "</style>\n",
       "<table border=\"1\" class=\"dataframe\">\n",
       "  <thead>\n",
       "    <tr style=\"text-align: right;\">\n",
       "      <th></th>\n",
       "      <th>Are you a student?</th>\n",
       "      <th>Have you ever participated or currently participating in any online learning courses?</th>\n",
       "      <th>Do you feel online learning has been helpful considering the current pandemic?</th>\n",
       "      <th>Would you like to upgrade your skillset by participating in online learning platforms?</th>\n",
       "      <th>Do you think that online learning should continue even after the pandemic?</th>\n",
       "      <th>Enormous Course Options</th>\n",
       "      <th>Do Not Know Where To Start</th>\n",
       "      <th>Cost Per Course</th>\n",
       "      <th>Completion Inconsistency</th>\n",
       "      <th>Technology</th>\n",
       "      <th>...</th>\n",
       "      <th>Baking</th>\n",
       "      <th>Teaching</th>\n",
       "      <th>Gaming</th>\n",
       "      <th>Age: 18 - 25</th>\n",
       "      <th>Age: 25 - 35</th>\n",
       "      <th>Age: Below 18</th>\n",
       "      <th>Find: Moderate</th>\n",
       "      <th>Find: Difficult</th>\n",
       "      <th>Find: Not Applicable</th>\n",
       "      <th>Find: Easy</th>\n",
       "    </tr>\n",
       "    <tr>\n",
       "      <th>Kindly fill in your full name</th>\n",
       "      <th></th>\n",
       "      <th></th>\n",
       "      <th></th>\n",
       "      <th></th>\n",
       "      <th></th>\n",
       "      <th></th>\n",
       "      <th></th>\n",
       "      <th></th>\n",
       "      <th></th>\n",
       "      <th></th>\n",
       "      <th></th>\n",
       "      <th></th>\n",
       "      <th></th>\n",
       "      <th></th>\n",
       "      <th></th>\n",
       "      <th></th>\n",
       "      <th></th>\n",
       "      <th></th>\n",
       "      <th></th>\n",
       "      <th></th>\n",
       "      <th></th>\n",
       "    </tr>\n",
       "  </thead>\n",
       "  <tbody>\n",
       "    <tr>\n",
       "      <th>Sneha vijay bhope</th>\n",
       "      <td>1</td>\n",
       "      <td>1</td>\n",
       "      <td>1</td>\n",
       "      <td>1</td>\n",
       "      <td>1</td>\n",
       "      <td>1</td>\n",
       "      <td>0</td>\n",
       "      <td>0</td>\n",
       "      <td>0</td>\n",
       "      <td>1</td>\n",
       "      <td>...</td>\n",
       "      <td>0</td>\n",
       "      <td>0</td>\n",
       "      <td>0</td>\n",
       "      <td>1</td>\n",
       "      <td>0</td>\n",
       "      <td>0</td>\n",
       "      <td>1</td>\n",
       "      <td>0</td>\n",
       "      <td>0</td>\n",
       "      <td>0</td>\n",
       "    </tr>\n",
       "    <tr>\n",
       "      <th>Denver D'souza</th>\n",
       "      <td>0</td>\n",
       "      <td>1</td>\n",
       "      <td>1</td>\n",
       "      <td>1</td>\n",
       "      <td>1</td>\n",
       "      <td>1</td>\n",
       "      <td>1</td>\n",
       "      <td>1</td>\n",
       "      <td>0</td>\n",
       "      <td>0</td>\n",
       "      <td>...</td>\n",
       "      <td>0</td>\n",
       "      <td>0</td>\n",
       "      <td>0</td>\n",
       "      <td>0</td>\n",
       "      <td>1</td>\n",
       "      <td>0</td>\n",
       "      <td>0</td>\n",
       "      <td>1</td>\n",
       "      <td>0</td>\n",
       "      <td>0</td>\n",
       "    </tr>\n",
       "    <tr>\n",
       "      <th>Kedar Bhope</th>\n",
       "      <td>0</td>\n",
       "      <td>0</td>\n",
       "      <td>0</td>\n",
       "      <td>0</td>\n",
       "      <td>0</td>\n",
       "      <td>0</td>\n",
       "      <td>0</td>\n",
       "      <td>0</td>\n",
       "      <td>0</td>\n",
       "      <td>0</td>\n",
       "      <td>...</td>\n",
       "      <td>0</td>\n",
       "      <td>0</td>\n",
       "      <td>0</td>\n",
       "      <td>0</td>\n",
       "      <td>1</td>\n",
       "      <td>0</td>\n",
       "      <td>0</td>\n",
       "      <td>0</td>\n",
       "      <td>1</td>\n",
       "      <td>0</td>\n",
       "    </tr>\n",
       "    <tr>\n",
       "      <th>Kedar Bhope</th>\n",
       "      <td>0</td>\n",
       "      <td>0</td>\n",
       "      <td>0</td>\n",
       "      <td>0</td>\n",
       "      <td>0</td>\n",
       "      <td>0</td>\n",
       "      <td>0</td>\n",
       "      <td>0</td>\n",
       "      <td>0</td>\n",
       "      <td>0</td>\n",
       "      <td>...</td>\n",
       "      <td>0</td>\n",
       "      <td>0</td>\n",
       "      <td>0</td>\n",
       "      <td>0</td>\n",
       "      <td>1</td>\n",
       "      <td>0</td>\n",
       "      <td>0</td>\n",
       "      <td>0</td>\n",
       "      <td>1</td>\n",
       "      <td>0</td>\n",
       "    </tr>\n",
       "    <tr>\n",
       "      <th>Ginelle D'souza</th>\n",
       "      <td>1</td>\n",
       "      <td>1</td>\n",
       "      <td>1</td>\n",
       "      <td>1</td>\n",
       "      <td>1</td>\n",
       "      <td>1</td>\n",
       "      <td>0</td>\n",
       "      <td>1</td>\n",
       "      <td>0</td>\n",
       "      <td>1</td>\n",
       "      <td>...</td>\n",
       "      <td>0</td>\n",
       "      <td>0</td>\n",
       "      <td>0</td>\n",
       "      <td>1</td>\n",
       "      <td>0</td>\n",
       "      <td>0</td>\n",
       "      <td>1</td>\n",
       "      <td>0</td>\n",
       "      <td>0</td>\n",
       "      <td>0</td>\n",
       "    </tr>\n",
       "  </tbody>\n",
       "</table>\n",
       "<p>5 rows × 32 columns</p>\n",
       "</div>"
      ],
      "text/plain": [
       "                               Are you a student?  \\\n",
       "Kindly fill in your full name                       \n",
       "Sneha vijay bhope                               1   \n",
       "Denver D'souza                                  0   \n",
       "Kedar Bhope                                     0   \n",
       "Kedar Bhope                                     0   \n",
       "Ginelle D'souza                                 1   \n",
       "\n",
       "                               Have you ever participated or currently participating in any online learning courses?  \\\n",
       "Kindly fill in your full name                                                                                          \n",
       "Sneha vijay bhope                                                              1                                       \n",
       "Denver D'souza                                                                 1                                       \n",
       "Kedar Bhope                                                                    0                                       \n",
       "Kedar Bhope                                                                    0                                       \n",
       "Ginelle D'souza                                                                1                                       \n",
       "\n",
       "                               Do you feel online learning has been helpful considering the current pandemic?  \\\n",
       "Kindly fill in your full name                                                                                   \n",
       "Sneha vijay bhope                                                              1                                \n",
       "Denver D'souza                                                                 1                                \n",
       "Kedar Bhope                                                                    0                                \n",
       "Kedar Bhope                                                                    0                                \n",
       "Ginelle D'souza                                                                1                                \n",
       "\n",
       "                               Would you like to upgrade your skillset by participating in online learning platforms?  \\\n",
       "Kindly fill in your full name                                                                                           \n",
       "Sneha vijay bhope                                                              1                                        \n",
       "Denver D'souza                                                                 1                                        \n",
       "Kedar Bhope                                                                    0                                        \n",
       "Kedar Bhope                                                                    0                                        \n",
       "Ginelle D'souza                                                                1                                        \n",
       "\n",
       "                               Do you think that online learning should continue even after the pandemic?  \\\n",
       "Kindly fill in your full name                                                                               \n",
       "Sneha vijay bhope                                                              1                            \n",
       "Denver D'souza                                                                 1                            \n",
       "Kedar Bhope                                                                    0                            \n",
       "Kedar Bhope                                                                    0                            \n",
       "Ginelle D'souza                                                                1                            \n",
       "\n",
       "                               Enormous Course Options  \\\n",
       "Kindly fill in your full name                            \n",
       "Sneha vijay bhope                                    1   \n",
       "Denver D'souza                                       1   \n",
       "Kedar Bhope                                          0   \n",
       "Kedar Bhope                                          0   \n",
       "Ginelle D'souza                                      1   \n",
       "\n",
       "                               Do Not Know Where To Start  Cost Per Course  \\\n",
       "Kindly fill in your full name                                                \n",
       "Sneha vijay bhope                                       0                0   \n",
       "Denver D'souza                                          1                1   \n",
       "Kedar Bhope                                             0                0   \n",
       "Kedar Bhope                                             0                0   \n",
       "Ginelle D'souza                                         0                1   \n",
       "\n",
       "                               Completion Inconsistency  Technology  ...  \\\n",
       "Kindly fill in your full name                                        ...   \n",
       "Sneha vijay bhope                                     0           1  ...   \n",
       "Denver D'souza                                        0           0  ...   \n",
       "Kedar Bhope                                           0           0  ...   \n",
       "Kedar Bhope                                           0           0  ...   \n",
       "Ginelle D'souza                                       0           1  ...   \n",
       "\n",
       "                               Baking  Teaching  Gaming  Age: 18 - 25  \\\n",
       "Kindly fill in your full name                                           \n",
       "Sneha vijay bhope                   0         0       0             1   \n",
       "Denver D'souza                      0         0       0             0   \n",
       "Kedar Bhope                         0         0       0             0   \n",
       "Kedar Bhope                         0         0       0             0   \n",
       "Ginelle D'souza                     0         0       0             1   \n",
       "\n",
       "                               Age: 25 - 35  Age: Below 18  Find: Moderate  \\\n",
       "Kindly fill in your full name                                                \n",
       "Sneha vijay bhope                         0              0               1   \n",
       "Denver D'souza                            1              0               0   \n",
       "Kedar Bhope                               1              0               0   \n",
       "Kedar Bhope                               1              0               0   \n",
       "Ginelle D'souza                           0              0               1   \n",
       "\n",
       "                               Find: Difficult  Find: Not Applicable  \\\n",
       "Kindly fill in your full name                                          \n",
       "Sneha vijay bhope                            0                     0   \n",
       "Denver D'souza                               1                     0   \n",
       "Kedar Bhope                                  0                     1   \n",
       "Kedar Bhope                                  0                     1   \n",
       "Ginelle D'souza                              0                     0   \n",
       "\n",
       "                               Find: Easy  \n",
       "Kindly fill in your full name              \n",
       "Sneha vijay bhope                       0  \n",
       "Denver D'souza                          0  \n",
       "Kedar Bhope                             0  \n",
       "Kedar Bhope                             0  \n",
       "Ginelle D'souza                         0  \n",
       "\n",
       "[5 rows x 32 columns]"
      ]
     },
     "execution_count": 12,
     "metadata": {},
     "output_type": "execute_result"
    }
   ],
   "source": [
    "data.head()"
   ]
  },
  {
   "cell_type": "markdown",
   "metadata": {},
   "source": [
    "Within the data collected we observe that we have a several columns each of which is essential to group students of similar interest. Thus, through Principal component analysis (PCA) we will reduce the dimensionality of the datasets, increasing interpretability but at the same time minimizing information loss."
   ]
  },
  {
   "cell_type": "code",
   "execution_count": 13,
   "metadata": {},
   "outputs": [
    {
     "data": {
      "text/html": [
       "<div>\n",
       "<style scoped>\n",
       "    .dataframe tbody tr th:only-of-type {\n",
       "        vertical-align: middle;\n",
       "    }\n",
       "\n",
       "    .dataframe tbody tr th {\n",
       "        vertical-align: top;\n",
       "    }\n",
       "\n",
       "    .dataframe thead th {\n",
       "        text-align: right;\n",
       "    }\n",
       "</style>\n",
       "<table border=\"1\" class=\"dataframe\">\n",
       "  <thead>\n",
       "    <tr style=\"text-align: right;\">\n",
       "      <th></th>\n",
       "      <th>0</th>\n",
       "      <th>1</th>\n",
       "      <th>2</th>\n",
       "      <th>3</th>\n",
       "      <th>4</th>\n",
       "      <th>5</th>\n",
       "    </tr>\n",
       "  </thead>\n",
       "  <tbody>\n",
       "    <tr>\n",
       "      <th>0</th>\n",
       "      <td>-0.717672</td>\n",
       "      <td>-0.086850</td>\n",
       "      <td>-0.519002</td>\n",
       "      <td>-0.577458</td>\n",
       "      <td>1.182239</td>\n",
       "      <td>0.511338</td>\n",
       "    </tr>\n",
       "    <tr>\n",
       "      <th>1</th>\n",
       "      <td>-0.108246</td>\n",
       "      <td>0.970265</td>\n",
       "      <td>1.504706</td>\n",
       "      <td>-0.283103</td>\n",
       "      <td>0.105768</td>\n",
       "      <td>-0.608066</td>\n",
       "    </tr>\n",
       "    <tr>\n",
       "      <th>2</th>\n",
       "      <td>2.144503</td>\n",
       "      <td>-0.496924</td>\n",
       "      <td>0.130815</td>\n",
       "      <td>0.063459</td>\n",
       "      <td>0.383062</td>\n",
       "      <td>-0.043782</td>\n",
       "    </tr>\n",
       "    <tr>\n",
       "      <th>3</th>\n",
       "      <td>2.144503</td>\n",
       "      <td>-0.496924</td>\n",
       "      <td>0.130815</td>\n",
       "      <td>0.063459</td>\n",
       "      <td>0.383062</td>\n",
       "      <td>-0.043782</td>\n",
       "    </tr>\n",
       "    <tr>\n",
       "      <th>4</th>\n",
       "      <td>-0.826204</td>\n",
       "      <td>0.400595</td>\n",
       "      <td>-0.633648</td>\n",
       "      <td>-0.629753</td>\n",
       "      <td>1.034120</td>\n",
       "      <td>-0.048162</td>\n",
       "    </tr>\n",
       "  </tbody>\n",
       "</table>\n",
       "</div>"
      ],
      "text/plain": [
       "          0         1         2         3         4         5\n",
       "0 -0.717672 -0.086850 -0.519002 -0.577458  1.182239  0.511338\n",
       "1 -0.108246  0.970265  1.504706 -0.283103  0.105768 -0.608066\n",
       "2  2.144503 -0.496924  0.130815  0.063459  0.383062 -0.043782\n",
       "3  2.144503 -0.496924  0.130815  0.063459  0.383062 -0.043782\n",
       "4 -0.826204  0.400595 -0.633648 -0.629753  1.034120 -0.048162"
      ]
     },
     "execution_count": 13,
     "metadata": {},
     "output_type": "execute_result"
    }
   ],
   "source": [
    "#Example of column reduction from 32 columns to 6 columns\n",
    "\n",
    "from sklearn.decomposition import PCA\n",
    "\n",
    "pca = PCA(n_components=6)\n",
    "pca.fit(data)\n",
    "pca_samples = pca.transform(data)\n",
    "\n",
    "ps = pd.DataFrame(pca_samples)\n",
    "ps.head()"
   ]
  },
  {
   "cell_type": "markdown",
   "metadata": {},
   "source": [
    "Once the dimensions are reduced we will make use of K-Means clustering to group students with similar interest. K-Means Clustering is an Unsupervised Learning algorithm that groups similar dataset into several cluster. The letter \"K\" in K-Means Clustering defines the number of pre-defined  cluster we need to  maintain within the dataset."
   ]
  },
  {
   "cell_type": "code",
   "execution_count": 14,
   "metadata": {},
   "outputs": [
    {
     "name": "stdout",
     "output_type": "stream",
     "text": [
      "(200, 2)\n",
      "          2         1\n",
      "0 -0.519002 -0.086850\n",
      "1  1.504706  0.970265\n",
      "2  0.130815 -0.496924\n",
      "3  0.130815 -0.496924\n",
      "4 -0.633648  0.400595\n"
     ]
    },
    {
     "data": {
      "image/png": "[encoded data removed]",
      "text/plain": [
       "<Figure size 576x576 with 1 Axes>"
      ]
     },
     "metadata": {
      "needs_background": "light"
     },
     "output_type": "display_data"
    }
   ],
   "source": [
    "from matplotlib import pyplot as plt\n",
    "from mpl_toolkits.mplot3d import Axes3D\n",
    "from mpl_toolkits.mplot3d import proj3d\n",
    "\n",
    "tocluster = pd.DataFrame(ps[[2,1]])\n",
    "print (tocluster.shape)\n",
    "print (tocluster.head())\n",
    "\n",
    "fig = plt.figure(figsize=(8,8))\n",
    "plt.plot(tocluster[2], tocluster[1], 'o', markersize=10, color='blue', alpha=0.5, label='class1')\n",
    "\n",
    "plt.xlabel('PC 2')\n",
    "plt.ylabel('PC 1')\n",
    "plt.show()"
   ]
  },
  {
   "cell_type": "code",
   "execution_count": 15,
   "metadata": {},
   "outputs": [
    {
     "data": {
      "image/png": "[encoded data removed]",
      "text/plain": [
       "<Figure size 576x576 with 1 Axes>"
      ]
     },
     "metadata": {
      "needs_background": "light"
     },
     "output_type": "display_data"
    }
   ],
   "source": [
    "from sklearn.cluster import KMeans\n",
    "from sklearn.metrics import silhouette_score\n",
    "\n",
    "clusterer = KMeans(n_clusters=4,random_state=42).fit(tocluster)\n",
    "centers = clusterer.cluster_centers_\n",
    "c_preds = clusterer.predict(tocluster)\n",
    "\n",
    "import matplotlib\n",
    "fig = plt.figure(figsize=(8,8))\n",
    "colors = ['orange','blue','purple','green']\n",
    "clusters = ['Student Type: 1','Student Type: 2','Student Type: 3','Student Type: 4']\n",
    "colored = [colors[k] for k in c_preds]\n",
    "\n",
    "plt.scatter(tocluster[2],tocluster[1],  color = colored)\n",
    "\n",
    "for ci,c in enumerate(centers):\n",
    "    plt.plot(c[0], c[1], '*', markersize=20, color=colors[ci],  label=''+str(clusters[ci]),markeredgewidth=1.5,markeredgecolor='black')\n",
    "\n",
    "plt.xlabel('PC 2')\n",
    "plt.ylabel('PC 1')\n",
    "plt.legend(fontsize=12)\n",
    "plt.show()"
   ]
  },
  {
   "cell_type": "markdown",
   "metadata": {},
   "source": [
    "Thus with the help of K-Means clustering we have created 4 clusters of students having similar interest"
   ]
  }
 ],
 "metadata": {
  "kernelspec": {
   "display_name": "Python 3",
   "language": "python",
   "name": "python3"
  },
  "language_info": {
   "codemirror_mode": {
    "name": "ipython",
    "version": 3
   },
   "file_extension": ".py",
   "mimetype": "text/x-python",
   "name": "python",
   "nbconvert_exporter": "python",
   "pygments_lexer": "ipython3",
   "version": "3.8.5"
  }
 },
 "nbformat": 4,
 "nbformat_minor": 4
}
