{
 "cells": [
  {
   "cell_type": "code",
   "execution_count": 1,
   "metadata": {},
   "outputs": [],
   "source": [
    "from sklearn.utils import resample\n",
    "import matplotlib.pyplot as plt\n",
    "from sklearn.svm import SVC\n",
    "from random import randint\n",
    "import seaborn as sns\n",
    "import pandas as pd\n",
    "import numpy as np"
   ]
  },
  {
   "cell_type": "code",
   "execution_count": 2,
   "metadata": {},
   "outputs": [],
   "source": [
    "data = pd.read_csv(\"C:/Users/ginel/OneDrive/Desktop/College - Project/Project and Research Documentation/Analytics/Online Learning - Research.csv\")"
   ]
  },
  {
   "cell_type": "code",
   "execution_count": 4,
   "metadata": {},
   "outputs": [],
   "source": [
    "OldCols = ['Timestamp', 'Kindly fill in your full name', 'What age category do you belong to?', 'Are you a student?',\n",
    "'Have you ever participated or currently participating in any online learning courses?', 'Do you feel online learning has been helpful considering the current pandemic?',\n",
    "'Would you like to upgrade your skillset by participating in online learning platforms?', 'How easy is it to find a course of your choice?',\n",
    "'What challenges do you face while using the online learning platforms? (Select all that applies)', 'Do you think that online learning should continue even after the pandemic?',\n",
    "'What are your interests (Select all that applies)']\n",
    "\n",
    "NewCols = ['Date', 'Name', 'Age Group', 'Student', 'Participated in online learning', 'Is online learning helpful', 'Upgrade skills through online learning',\n",
    "'Ease to pick a course', 'Challenges to pick a course', 'Online learning continue', 'Interest']\n",
    "\n",
    "for i in range(len(OldCols)):\n",
    "    data.rename(columns={OldCols[i]: NewCols[i]}, inplace=True)"
   ]
  },
  {
   "cell_type": "code",
   "execution_count": null,
   "metadata": {},
   "outputs": [],
   "source": []
  },
  {
   "cell_type": "code",
   "execution_count": null,
   "metadata": {},
   "outputs": [],
   "source": []
  },
  {
   "cell_type": "code",
   "execution_count": null,
   "metadata": {},
   "outputs": [],
   "source": []
  },
  {
   "cell_type": "code",
   "execution_count": null,
   "metadata": {},
   "outputs": [],
   "source": []
  }
 ],
 "metadata": {
  "kernelspec": {
   "display_name": "Python 3",
   "language": "python",
   "name": "python3"
  },
  "language_info": {
   "codemirror_mode": {
    "name": "ipython",
    "version": 3
   },
   "file_extension": ".py",
   "mimetype": "text/x-python",
   "name": "python",
   "nbconvert_exporter": "python",
   "pygments_lexer": "ipython3",
   "version": "3.8.5"
  }
 },
 "nbformat": 4,
 "nbformat_minor": 4
}
