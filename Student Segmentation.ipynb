{
 "cells": [
  {
   "cell_type": "code",
   "execution_count": 1,
   "metadata": {},
   "outputs": [],
   "source": [
    "from sklearn.utils import resample\n",
    "import matplotlib.pyplot as plt\n",
    "from sklearn.svm import SVC\n",
    "from random import randint\n",
    "import seaborn as sns\n",
    "import pandas as pd\n",
    "import numpy as np"
   ]
  },
  {
   "cell_type": "code",
   "execution_count": 2,
   "metadata": {},
   "outputs": [],
   "source": [
    "data = pd.read_csv(\"C:/Users/ginel/OneDrive/Desktop/College - Project/Project and Research Documentation/Analytics/Online Learning - Research.csv\")"
   ]
  },
  {
   "cell_type": "code",
   "execution_count": 3,
   "metadata": {},
   "outputs": [],
   "source": [
    "OldCols = ['Timestamp', 'Kindly fill in your full name', 'What age category do you belong to?', 'Are you a student?',\n",
    "'Have you ever participated or currently participating in any online learning courses?', 'Do you feel online learning has been helpful considering the current pandemic?',\n",
    "'Would you like to upgrade your skillset by participating in online learning platforms?', 'How easy is it to find a course of your choice?',\n",
    "'What challenges do you face while using the online learning platforms? (Select all that applies)', 'Do you think that online learning should continue even after the pandemic?',\n",
    "'What are your interests (Select all that applies)']\n",
    "\n",
    "NewCols = ['Date', 'Name', 'Age Group', 'Student', 'Participated in online learning', 'Is online learning helpful', 'Upgrade skills through online learning',\n",
    "'Ease to pick a course', 'Challenges to pick a course', 'Online learning continue', 'Interest']\n",
    "\n",
    "for i in range(len(OldCols)):\n",
    "    data.rename(columns={OldCols[i]: NewCols[i]}, inplace=True)"
   ]
  },
  {
   "cell_type": "code",
   "execution_count": 4,
   "metadata": {},
   "outputs": [
    {
     "data": {
      "text/html": [
       "<div>\n",
       "<style scoped>\n",
       "    .dataframe tbody tr th:only-of-type {\n",
       "        vertical-align: middle;\n",
       "    }\n",
       "\n",
       "    .dataframe tbody tr th {\n",
       "        vertical-align: top;\n",
       "    }\n",
       "\n",
       "    .dataframe thead th {\n",
       "        text-align: right;\n",
       "    }\n",
       "</style>\n",
       "<table border=\"1\" class=\"dataframe\">\n",
       "  <thead>\n",
       "    <tr style=\"text-align: right;\">\n",
       "      <th></th>\n",
       "      <th>Date</th>\n",
       "      <th>Name</th>\n",
       "      <th>Age Group</th>\n",
       "      <th>Student</th>\n",
       "      <th>Participated in online learning</th>\n",
       "      <th>Is online learning helpful</th>\n",
       "      <th>Upgrade skills through online learning</th>\n",
       "      <th>Ease to pick a course</th>\n",
       "      <th>Challenges to pick a course</th>\n",
       "      <th>Online learning continue</th>\n",
       "      <th>Interest</th>\n",
       "    </tr>\n",
       "  </thead>\n",
       "  <tbody>\n",
       "    <tr>\n",
       "      <th>0</th>\n",
       "      <td>2021/05/16 8:06:13 pm GMT+5:30</td>\n",
       "      <td>Sneha vijay bhope</td>\n",
       "      <td>18 - 25</td>\n",
       "      <td>Yes</td>\n",
       "      <td>Yes</td>\n",
       "      <td>Yes</td>\n",
       "      <td>Yes</td>\n",
       "      <td>3.0</td>\n",
       "      <td>Enormous course options</td>\n",
       "      <td>Yes</td>\n",
       "      <td>Technology</td>\n",
       "    </tr>\n",
       "    <tr>\n",
       "      <th>1</th>\n",
       "      <td>2021/05/16 8:07:33 pm GMT+5:30</td>\n",
       "      <td>Denver D'souza</td>\n",
       "      <td>25 - 35</td>\n",
       "      <td>No</td>\n",
       "      <td>Yes</td>\n",
       "      <td>Yes</td>\n",
       "      <td>Yes</td>\n",
       "      <td>5.0</td>\n",
       "      <td>Don't know where to start;Enormous course opti...</td>\n",
       "      <td>Yes</td>\n",
       "      <td>Finance;Music;Analytics;Accounting</td>\n",
       "    </tr>\n",
       "    <tr>\n",
       "      <th>2</th>\n",
       "      <td>2021/05/16 8:08:05 pm GMT+5:30</td>\n",
       "      <td>Kedar Bhope</td>\n",
       "      <td>25 - 35</td>\n",
       "      <td>No</td>\n",
       "      <td>No</td>\n",
       "      <td>NaN</td>\n",
       "      <td>NaN</td>\n",
       "      <td>NaN</td>\n",
       "      <td>NaN</td>\n",
       "      <td>NaN</td>\n",
       "      <td>NaN</td>\n",
       "    </tr>\n",
       "    <tr>\n",
       "      <th>3</th>\n",
       "      <td>2021/05/16 8:08:40 pm GMT+5:30</td>\n",
       "      <td>Kedar Bhope</td>\n",
       "      <td>25 - 35</td>\n",
       "      <td>No</td>\n",
       "      <td>No</td>\n",
       "      <td>NaN</td>\n",
       "      <td>NaN</td>\n",
       "      <td>NaN</td>\n",
       "      <td>NaN</td>\n",
       "      <td>NaN</td>\n",
       "      <td>NaN</td>\n",
       "    </tr>\n",
       "    <tr>\n",
       "      <th>4</th>\n",
       "      <td>2021/05/16 8:10:08 pm GMT+5:30</td>\n",
       "      <td>Ginelle D'souza</td>\n",
       "      <td>18 - 25</td>\n",
       "      <td>Yes</td>\n",
       "      <td>Yes</td>\n",
       "      <td>Yes</td>\n",
       "      <td>Yes</td>\n",
       "      <td>3.0</td>\n",
       "      <td>Enormous course options;Cost per course</td>\n",
       "      <td>Yes</td>\n",
       "      <td>Analytics;Technology</td>\n",
       "    </tr>\n",
       "  </tbody>\n",
       "</table>\n",
       "</div>"
      ],
      "text/plain": [
       "                             Date               Name Age Group Student  \\\n",
       "0  2021/05/16 8:06:13 pm GMT+5:30  Sneha vijay bhope   18 - 25     Yes   \n",
       "1  2021/05/16 8:07:33 pm GMT+5:30     Denver D'souza   25 - 35      No   \n",
       "2  2021/05/16 8:08:05 pm GMT+5:30        Kedar Bhope   25 - 35      No   \n",
       "3  2021/05/16 8:08:40 pm GMT+5:30        Kedar Bhope   25 - 35      No   \n",
       "4  2021/05/16 8:10:08 pm GMT+5:30    Ginelle D'souza   18 - 25     Yes   \n",
       "\n",
       "  Participated in online learning Is online learning helpful  \\\n",
       "0                             Yes                        Yes   \n",
       "1                             Yes                        Yes   \n",
       "2                              No                        NaN   \n",
       "3                              No                        NaN   \n",
       "4                             Yes                        Yes   \n",
       "\n",
       "  Upgrade skills through online learning  Ease to pick a course  \\\n",
       "0                                    Yes                    3.0   \n",
       "1                                    Yes                    5.0   \n",
       "2                                    NaN                    NaN   \n",
       "3                                    NaN                    NaN   \n",
       "4                                    Yes                    3.0   \n",
       "\n",
       "                         Challenges to pick a course Online learning continue  \\\n",
       "0                            Enormous course options                      Yes   \n",
       "1  Don't know where to start;Enormous course opti...                      Yes   \n",
       "2                                                NaN                      NaN   \n",
       "3                                                NaN                      NaN   \n",
       "4            Enormous course options;Cost per course                      Yes   \n",
       "\n",
       "                             Interest  \n",
       "0                          Technology  \n",
       "1  Finance;Music;Analytics;Accounting  \n",
       "2                                 NaN  \n",
       "3                                 NaN  \n",
       "4                Analytics;Technology  "
      ]
     },
     "execution_count": 4,
     "metadata": {},
     "output_type": "execute_result"
    }
   ],
   "source": [
    "data.head()"
   ]
  },
  {
   "cell_type": "code",
   "execution_count": 5,
   "metadata": {},
   "outputs": [
    {
     "data": {
      "image/png": "[encoded data removed]",
      "text/plain": [
       "<Figure size 360x288 with 1 Axes>"
      ]
     },
     "metadata": {},
     "output_type": "display_data"
    }
   ],
   "source": [
    "plt.figure(figsize=(5,4))\n",
    "\n",
    "label = []\n",
    "value = []\n",
    "\n",
    "for j in range(len(data['Age Group'].value_counts().index)):\n",
    "    label.append(data['Age Group'].value_counts().index[j])\n",
    "    value.append(data['Age Group'].value_counts()[j])\n",
    "        \n",
    "plt.pie(value, labels = label,autopct='%1.2f%%',colors=['brown','darksalmon','mistyrose'],shadow=True)\n",
    "plt.title(\"Age Group\")\n",
    "\n",
    "plt.tight_layout(pad=0.4)   "
   ]
  },
  {
   "attachments": {},
   "cell_type": "markdown",
   "metadata": {},
   "source": [
    "The survey conducted consists of students and young professionals majorly in between the age group of 18 - 35 "
   ]
  },
  {
   "cell_type": "code",
   "execution_count": 6,
   "metadata": {},
   "outputs": [
    {
     "data": {
      "image/png": "[encoded data removed]",
      "text/plain": [
       "<Figure size 518x360 with 1 Axes>"
      ]
     },
     "metadata": {
      "needs_background": "light"
     },
     "output_type": "display_data"
    }
   ],
   "source": [
    "x,y = 'Student', 'Participated in online learning'\n",
    "\n",
    "df1 = data.groupby(x)[y].value_counts(normalize=True)\n",
    "df1 = df1.mul(100)\n",
    "df1 = df1.rename('percent').reset_index()\n",
    "\n",
    "g = sns.catplot(x=x,y='percent',hue=y,kind='bar',data=df1)"
   ]
  },
  {
   "cell_type": "markdown",
   "metadata": {},
   "source": [
    "66.7% young professionals and 98.4% of students have engaged in online learning. Where an increase in the latter is strikingly high."
   ]
  },
  {
   "cell_type": "code",
   "execution_count": 7,
   "metadata": {},
   "outputs": [
    {
     "data": {
      "image/png": "[encoded data removed]",
      "text/plain": [
       "<Figure size 360x288 with 1 Axes>"
      ]
     },
     "metadata": {},
     "output_type": "display_data"
    }
   ],
   "source": [
    "df = data.copy()\n",
    "df.fillna('',inplace=True)\n",
    "df = df[df['Upgrade skills through online learning'] != '']\n",
    "\n",
    "plt.figure(figsize=(5,4))\n",
    "\n",
    "label = []\n",
    "value = []\n",
    "\n",
    "for j in range(len(df['Upgrade skills through online learning'].value_counts().index)):\n",
    "    label.append(df['Upgrade skills through online learning'].value_counts().index[j])\n",
    "    value.append(df['Upgrade skills through online learning'].value_counts()[j])\n",
    "        \n",
    "plt.pie(value, labels = label,autopct='%1.2f%%',colors=['brown','darksalmon','mistyrose'],shadow=True)\n",
    "plt.title(\"Upgrade skills through online learning\")\n",
    "\n",
    "plt.tight_layout(pad=0.4)   "
   ]
  },
  {
   "cell_type": "markdown",
   "metadata": {},
   "source": [
    "More than three fourth - 65.12% of the youth and professional agree that online learning has been an integral part of upgrading their skills"
   ]
  },
  {
   "cell_type": "code",
   "execution_count": 8,
   "metadata": {},
   "outputs": [
    {
     "data": {
      "image/png": "[encoded data removed]",
      "text/plain": [
       "<Figure size 491.25x360 with 1 Axes>"
      ]
     },
     "metadata": {
      "needs_background": "light"
     },
     "output_type": "display_data"
    }
   ],
   "source": [
    "df = data.copy()\n",
    "df.fillna('',inplace=True)\n",
    "df = df[df['Online learning continue'] != '']\n",
    "\n",
    "x,y = 'Student', 'Online learning continue'\n",
    "\n",
    "df1 = df.groupby(x)[y].value_counts(normalize=True)\n",
    "df1 = df1.mul(100)\n",
    "df1 = df1.rename('percent').reset_index()\n",
    "\n",
    "g = sns.catplot(x=x,y='percent',hue=y,kind='bar',data=df1)"
   ]
  },
  {
   "cell_type": "markdown",
   "metadata": {},
   "source": [
    "We observe about 65.8% of students would love to carry on learning, where are the likelihood of professionals to continue is 42.3%. A major factor to this could be **TIME** involved in pursuing these courses."
   ]
  }
 ],
 "metadata": {
  "kernelspec": {
   "display_name": "Python 3",
   "language": "python",
   "name": "python3"
  },
  "language_info": {
   "codemirror_mode": {
    "name": "ipython",
    "version": 3
   },
   "file_extension": ".py",
   "mimetype": "text/x-python",
   "name": "python",
   "nbconvert_exporter": "python",
   "pygments_lexer": "ipython3",
   "version": "3.8.5"
  }
 },
 "nbformat": 4,
 "nbformat_minor": 4
}
